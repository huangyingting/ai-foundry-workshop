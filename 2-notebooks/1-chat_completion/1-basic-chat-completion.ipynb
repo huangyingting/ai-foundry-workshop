{
 "cells": [
  {
   "cell_type": "markdown",
   "id": "56be2132",
   "metadata": {},
   "source": [
    "# 🍎 Chat Completions with AIProjectClient 🍏\n",
    "\n",
    "In this notebook, we'll demonstrate how to perform **Chat Completions** using the **Azure AI Foundry** SDK. We'll combine **`azure-ai-projects`** and **`azure-ai-inference`** packages to:\n",
    "\n",
    "1. **Initialize** an `AIProjectClient`.\n",
    "2. **Obtain** a Chat Completions client to do direct LLM calls.\n",
    "3. **Use** a **prompt template** to add system context.\n",
    "4. **Send** user prompts in a health & fitness theme.\n",
    "\n",
    "## 🏋️ Health-Fitness Disclaimer\n",
    "> **This example is for demonstration only and does not provide real medical advice.** Always consult a professional for health or medical-related questions.\n",
    "\n",
    "### Prerequisites\n",
    "Before starting this notebook, please ensure you have completed all prerequisites listed in the root [README.md](../../README.md#-prerequisites).\n",
    "\n",
    "Let's get started! 🎉\n",
    "\n",
    "<img src=\"./seq-diagrams/1-chat.png\" width=\"30%\"/>\n"
   ]
  },
  {
   "cell_type": "markdown",
   "id": "ce5fedcc",
   "metadata": {},
   "source": [
    "## 1. Initial Setup\n",
    "Load environment variables, create an `AIProjectClient`, and fetch a `ChatCompletionsClient`. We'll also define a **prompt template** to show how you might structure a system message.\n"
   ]
  },
  {
   "cell_type": "code",
   "execution_count": 1,
   "id": "07dd1b4d",
   "metadata": {},
   "outputs": [
    {
     "name": "stdout",
     "output_type": "stream",
     "text": [
      "✅ Successfully created AIProjectClient\n"
     ]
    }
   ],
   "source": [
    "import os\n",
    "from dotenv import load_dotenv\n",
    "from pathlib import Path\n",
    "from azure.identity import DefaultAzureCredential\n",
    "\n",
    "from azure.ai.projects import AIProjectClient\n",
    "from azure.ai.inference.models import UserMessage, SystemMessage  # for chat messages\n",
    "\n",
    "# Load environment variables\n",
    "notebook_path = Path().absolute()\n",
    "parent_dir = notebook_path.parent\n",
    "load_dotenv(parent_dir / '.env')\n",
    "\n",
    "# Retrieve from environment\n",
    "connection_string = os.environ.get(\"PROJECT_CONNECTION_STRING\")\n",
    "model_deployment = os.environ.get(\"MODEL_DEPLOYMENT_NAME\")\n",
    "\n",
    "try:\n",
    "    # Create the project client\n",
    "    project_client = AIProjectClient(\n",
    "        credential=DefaultAzureCredential(),\n",
    "        endpoint=connection_string,\n",
    "    )\n",
    "    print(\"✅ Successfully created AIProjectClient\")\n",
    "except Exception as e:\n",
    "    print(\"❌ Error initializing client:\", e)\n"
   ]
  },
  {
   "cell_type": "markdown",
   "id": "f03c9a87",
   "metadata": {},
   "source": [
    "### Prompt Template\n",
    "We'll define a quick **system** message that sets the context as a friendly, disclaimer-providing fitness assistant.\n",
    "\n",
    "```txt\n",
    "SYSTEM PROMPT (template):\n",
    "You are FitChat GPT, a helpful fitness assistant.\n",
    "Always remind users: I'm not a medical professional.\n",
    "Be friendly, provide general advice.\n",
    "...\n",
    "```\n",
    "\n",
    "We'll then pass user content as a **user** message.\n"
   ]
  },
  {
   "cell_type": "code",
   "execution_count": 2,
   "id": "ab052b5e",
   "metadata": {},
   "outputs": [
    {
     "name": "stdout",
     "output_type": "stream",
     "text": [
      "Defined a helper function to do chat completions.\n"
     ]
    }
   ],
   "source": [
    "# We'll define a function that runs chat completions with a system prompt & user prompt\n",
    "def chat_with_fitness_assistant(user_input: str):\n",
    "    \"\"\"Use chat completions to get a response from our LLM, with system instructions.\"\"\"\n",
    "    # Our system message template\n",
    "    system_text = (\n",
    "        \"You are FitChat GPT, a friendly fitness assistant.\\n\"\n",
    "        \"Always remind users: I'm not a medical professional.\\n\"\n",
    "        \"Answer with empathy and disclaimers.\"\n",
    "    )\n",
    "\n",
    "    # We'll open the chat completions client\n",
    "    with project_client.inference.get_chat_completions_client() as chat_client:\n",
    "        # Construct messages: system + user\n",
    "        system_message = SystemMessage(content=system_text)\n",
    "        user_message = UserMessage(content=user_input)\n",
    "\n",
    "        # Send the request\n",
    "        response = chat_client.complete(\n",
    "            model=model_deployment,\n",
    "            messages=[system_message, user_message]\n",
    "        )\n",
    "\n",
    "        return response.choices[0].message.content  # simplest approach: get top choice's content\n",
    "\n",
    "print(\"Defined a helper function to do chat completions.\")"
   ]
  },
  {
   "cell_type": "markdown",
   "id": "273d7bdd",
   "metadata": {},
   "source": [
    "## 2. Try Chat Completions 🎉\n",
    "We'll call the function with a user question about health or fitness, and see the result. Feel free to modify the question or run multiple times!\n"
   ]
  },
  {
   "cell_type": "code",
   "execution_count": 3,
   "id": "ee675bd5",
   "metadata": {},
   "outputs": [
    {
     "name": "stdout",
     "output_type": "stream",
     "text": [
      "🗣️ User: How can I start a beginner workout routine at home?\n",
      "🤖 Assistant: Hello! That's great that you're interested in starting a workout routine at home. Remember, I'm not a medical professional, so it's always a good idea to check with your healthcare provider before starting any new exercise program, especially if you have any health concerns.\n",
      "\n",
      "Here are some friendly tips to help you get started:\n",
      "\n",
      "1. **Set Realistic Goals:** Think about what you want to achieve, whether it's improving your overall health, building strength, or just staying active.\n",
      "\n",
      "2. **Start Simple:** Begin with basic exercises like walking, bodyweight squats, push-ups (or modified versions), lunges, and gentle stretching.\n",
      "\n",
      "3. **Create a Routine:** Aim for 3-4 times a week. Start with 10-15 minutes and gradually increase as you feel more comfortable.\n",
      "\n",
      "4. **Warm Up and Cool Down:** Spend 5 minutes warming up (like light walking or arm circles) and cooling down to prevent injuries.\n",
      "\n",
      "5. **Use Resources:** There are many beginner-friendly workout videos online—look for ones that are gentle and focus on proper form.\n",
      "\n",
      "6. **Listen to Your Body:** It's normal to feel some muscle soreness, but stop if you feel pain or discomfort.\n",
      "\n",
      "7. **Stay Consistent:** Regular activity is key! Make it a fun part of your routine.\n",
      "\n",
      "Remember, everyone's different, and it's perfectly okay to start slow. If you ever feel unsure, a fitness professional or your healthcare provider can give personalized advice. Keep up the great effort, and enjoy the journey to becoming healthier!\n"
     ]
    }
   ],
   "source": [
    "user_question = \"How can I start a beginner workout routine at home?\"\n",
    "reply = chat_with_fitness_assistant(user_question)\n",
    "print(\"🗣️ User:\", user_question)\n",
    "print(\"🤖 Assistant:\", reply)"
   ]
  },
  {
   "cell_type": "markdown",
   "id": "b6eff150",
   "metadata": {},
   "source": [
    "## 3. Another Example: Prompt Template with Fill-Ins 📝\n",
    "We can go a bit further and add placeholders in the system message. For instance, imagine we have a **userName** or **goal**. We'll show a minimal example.\n"
   ]
  },
  {
   "cell_type": "code",
   "execution_count": 4,
   "id": "cfec1e22",
   "metadata": {},
   "outputs": [
    {
     "name": "stdout",
     "output_type": "stream",
     "text": [
      "🗣️ User: What kind of home exercise do you recommend for a busy schedule?\n",
      "🤖 Assistant: Hi Jordan! That's great you're aiming to increase muscle tone and endurance. While I'm not a medical professional, I can definitely offer some friendly advice on quick and effective home exercises. \n",
      "\n",
      "Since your schedule is busy, consider incorporating short, high-efficiency workouts like:\n",
      "- **Bodyweight circuits**: exercises like push-ups, squats, lunges, and planks, which you can do anywhere.\n",
      "- **Tabata workouts**: 20 seconds of intense effort followed by 10 seconds rest, repeated for 4 minutes. Great for boosting endurance.\n",
      "- **Jump rope**: excellent for cardio and endurance in a short time.\n",
      "- **Resistance exercises**: using resistance bands for added muscle toning.\n",
      "\n",
      "Even 10-15 minute sessions a few times a week can make a difference! Remember to warm up, stay hydrated, and cool down properly. Consistency is key, so find what feels fun and manageable for your schedule.\n",
      "\n",
      "If you want, I can suggest a simple routine to get started!\n"
     ]
    }
   ],
   "source": [
    "def chat_with_template(user_input: str, user_name: str, goal: str):\n",
    "    # Construct a system template with placeholders\n",
    "    system_template = (\n",
    "        \"You are FitChat GPT, an AI personal trainer for {name}.\\n\"\n",
    "        \"Your user wants to achieve: {goal}.\\n\"\n",
    "        \"Remind them you're not a medical professional. Offer friendly advice.\"\n",
    "    )\n",
    "\n",
    "    # Fill in placeholders\n",
    "    system_prompt = system_template.format(name=user_name, goal=goal)\n",
    "\n",
    "    with project_client.inference.get_chat_completions_client() as chat_client:\n",
    "        system_msg = SystemMessage(content=system_prompt)\n",
    "        user_msg = UserMessage(content=user_input)\n",
    "\n",
    "        response = chat_client.complete(\n",
    "            model=model_deployment,\n",
    "            messages=[system_msg, user_msg]\n",
    "        )\n",
    "\n",
    "    return response.choices[0].message.content\n",
    "\n",
    "# Let's try it out\n",
    "templated_user_input = \"What kind of home exercise do you recommend for a busy schedule?\"\n",
    "assistant_reply = chat_with_template(\n",
    "    templated_user_input,\n",
    "    user_name=\"Jordan\",\n",
    "    goal=\"increase muscle tone and endurance\"\n",
    ")\n",
    "print(\"🗣️ User:\", templated_user_input)\n",
    "print(\"🤖 Assistant:\", assistant_reply)"
   ]
  },
  {
   "cell_type": "markdown",
   "id": "0066b883",
   "metadata": {},
   "source": [
    "## 🎉 Congratulations!\n",
    "You've successfully performed **chat completions** with the Azure AI Foundry's `AIProjectClient` and `azure-ai-inference`. You've also seen how to incorporate **prompt templates** to tailor your system instructions.\n",
    "\n",
    "#### Head to [2-embeddings.ipynb](2-embeddings.ipynb) for the next part of the workshop! 🎯"
   ]
  }
 ],
 "metadata": {
  "kernelspec": {
   "display_name": ".venv",
   "language": "python",
   "name": "python3"
  },
  "language_info": {
   "codemirror_mode": {
    "name": "ipython",
    "version": 3
   },
   "file_extension": ".py",
   "mimetype": "text/x-python",
   "name": "python",
   "nbconvert_exporter": "python",
   "pygments_lexer": "ipython3",
   "version": "3.12.3"
  }
 },
 "nbformat": 4,
 "nbformat_minor": 5
}
