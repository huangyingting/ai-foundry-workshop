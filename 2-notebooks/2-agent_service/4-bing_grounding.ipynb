{
  "cells": [
    {
      "cell_type": "markdown",
      "id": "intro-bing-grounding",
      "metadata": {},
      "source": [
        "# 🍏 Health & Fitness Agent with Bing Grounding 🍎\n",
        "\n",
        "Welcome to our **Health & Fitness Agent with Bing Grounding** tutorial! In this notebook, we'll demonstrate how to:\n",
        "\n",
        "1. **Initialize** a project using Azure AI Foundry.\n",
        "2. **Create an Agent** with the **BingGroundingTool** for web search.\n",
        "3. **Ask real-world questions** about health and fitness.\n",
        "4. **Retrieve and display** answers, including Bing query URLs and disclaimers.\n",
        "\n",
        "### ⚠️ Important Model Support Note ⚠️\n",
        "> Bing grounding is currently only supported in certain Azure OpenAI models (e.g. `gpt-4o-0513`).\n",
        "> \n",
        "> Make sure you specify a supported model and set the `\"x-ms-enable-preview\": \"true\"` header.\n",
        "\n",
        "## Prerequisites\n",
        "- Complete Agent basics notebook - [1-basics.ipynb](1-basics.ipynb)\n",
        "- Grounding with Bing connection in Azure AI Foundry, which has to be provisioned from Azure portal.\n",
        "See [\"Setup Bing Grounding\"](https://learn.microsoft.com/en-us/azure/ai-services/agents/how-to/tools/bing-grounding?tabs=python&pivots=overview#setup) in the documentation for full details.\n",
        "\n",
        "<img src=\"./seq-diagrams/bing-api-key.png\" width=\"30%\"/>\n",
        "\n",
        "- A `.env` file in the parent directory containing:\n",
        "  ```bash\n",
        "  PROJECT_CONNECTION_STRING=<your-connection-string>\n",
        "  MODEL_DEPLOYMENT_NAME=<supported-model>\n",
        "  BING_CONNECTION_NAME=<the-name-of-your-bing-connection>\n",
        "  ```\n",
        "\n",
        "## Let's Explore Grounding with Bing!\n",
        "We'll integrate **Grounding with Bing** search results into our agent so it can gather extra context from the web. We'll store and display the Bing search query link for transparency. 🎉\n",
        "\n",
        "<br/>\n",
        "\n",
        "<img src=\"./seq-diagrams/4-bing-grounding.png\" width=\"30%\"/>\n"
      ]
    },
    {
      "cell_type": "markdown",
      "id": "setup-initialize",
      "metadata": {},
      "source": [
        "## 1. Initial Setup\n",
        "We'll load environment variables from `.env` and initialize our **AIProjectClient** to manage agents."
      ]
    },
    {
      "cell_type": "code",
      "execution_count": null,
      "id": "init-code",
      "metadata": {},
      "outputs": [
        {
          "name": "stdout",
          "output_type": "stream",
          "text": [
            "✅ Successfully initialized AIProjectClient\n"
          ]
        }
      ],
      "source": [
        "import os\n",
        "import time\n",
        "from pathlib import Path\n",
        "\n",
        "from dotenv import load_dotenv\n",
        "from azure.identity import DefaultAzureCredential\n",
        "from azure.ai.projects import AIProjectClient\n",
        "from azure.ai.agents.models import BingGroundingTool, MessageTextContent\n",
        "\n",
        "# Load environment variables\n",
        "notebook_path = Path().absolute()\n",
        "parent_dir = notebook_path.parent\n",
        "load_dotenv(parent_dir.parent / '.env')\n",
        "\n",
        "# Initialize AIProjectClient\n",
        "try:\n",
        "  project_client = AIProjectClient(\n",
        "      credential=DefaultAzureCredential(),\n",
        "      endpoint=os.environ.get(\"PROJECT_CONNECTION_STRING\")\n",
        "  )\n",
        "  print(\"✅ Successfully initialized AIProjectClient\")\n",
        "except Exception as e:\n",
        "  print(f\"❌ Error initializing project client: {e}\")"
      ]
    },
    {
      "cell_type": "markdown",
      "id": "create-agent-with-bing-grounding",
      "metadata": {},
      "source": [
        "## 2. Create Bing-Grounded Agent 🌐\n",
        "We'll fetch our Bing connection from AI Foundry and use `BingGroundingTool` to let our agent search the web. Then we'll create a new agent with disclaimers about not being a doctor, etc.\n",
        "\n",
        "Make sure your `MODEL_DEPLOYMENT_NAME` is set to a Bing-supported model (for example, `gpt-4o-0513`) and that you add the header `{\"x-ms-enable-preview\": \"true\"}`."
      ]
    },
    {
      "cell_type": "code",
      "execution_count": null,
      "id": "agent-bing-code",
      "metadata": {},
      "outputs": [
        {
          "name": "stdout",
          "output_type": "stream",
          "text": [
            "Bing Connection ID: /subscriptions/611f3010-1b15-4826-b93d-8de76fcd6484/resourceGroups/AAI/providers/Microsoft.CognitiveServices/accounts/aaisc/projects/msft/connections/bs\n",
            "🎉 Created Bing-grounded agent, ID: asst_OCUf5kcmd1K74gcjp5PASdEG\n"
          ]
        }
      ],
      "source": [
        "def create_bing_grounded_agent():\n",
        "  \"\"\"Create an agent that can use Bing to ground queries with up-to-date info.\"\"\"\n",
        "  try:\n",
        "    # 1. Retrieve Bing connection from your AI Foundry project\n",
        "    bing_conn_name = os.environ.get(\"BING_CONNECTION_NAME\")\n",
        "    if not bing_conn_name:\n",
        "      raise ValueError(\"BING_CONNECTION_NAME not set in .env\")\n",
        "\n",
        "    bing_connection = project_client.connections.get(name=bing_conn_name)\n",
        "    conn_id = bing_connection.id\n",
        "    print(f\"Bing Connection ID: {conn_id}\")\n",
        "\n",
        "    # 2. Initialize Bing grounding tool\n",
        "    bing_tool = BingGroundingTool(connection_id=conn_id)\n",
        "\n",
        "    # 3. Create an agent that can search with Bing\n",
        "    agent = project_client.agents.create_agent(\n",
        "        model=os.environ.get(\"MODEL_DEPLOYMENT_NAME\", \"gpt-4o-mini\"),\n",
        "        name=\"health-bing-agent\",\n",
        "        instructions=\"\"\"\n",
        "                You are a health and fitness assistant with Bing search capabilities.\n",
        "                Always:\n",
        "                1. Provide disclaimers that you are not a medical professional.\n",
        "                2. Encourage professional consultation.\n",
        "                3. Use Bing for real-time references.\n",
        "                4. Provide brief, helpful answers.\n",
        "            \"\"\",\n",
        "        tools=bing_tool.definitions,\n",
        "        # Must pass special preview header to use Bing grounding (subject to change)\n",
        "        headers={\"x-ms-enable-preview\": \"true\"},\n",
        "    )\n",
        "\n",
        "    print(f\"🎉 Created Bing-grounded agent, ID: {agent.id}\")\n",
        "    return agent\n",
        "  except Exception as e:\n",
        "    print(f\"❌ Error creating Bing-grounded agent: {e}\")\n",
        "    return None\n",
        "\n",
        "\n",
        "# Create our Bing-based agent\n",
        "bing_agent = create_bing_grounded_agent()"
      ]
    },
    {
      "cell_type": "markdown",
      "id": "create-thread",
      "metadata": {},
      "source": [
        "## 3. Starting Threads & Asking Questions 💬\n",
        "We'll create conversation threads for each user query, letting the agent search with Bing to find relevant info. We will store all `(thread, run)` pairs in a list so we can review them in the next step."
      ]
    },
    {
      "cell_type": "code",
      "execution_count": null,
      "id": "create-thread-code",
      "metadata": {},
      "outputs": [
        {
          "name": "stdout",
          "output_type": "stream",
          "text": [
            "📝 Created a conversation thread, ID: thread_9cXnNbml4f2EzpJ5mAZNvmsr\n",
            "📨 Created user message with query: 'What are some new HIIT workout trends I should know about?'\n",
            "🤖 Run finished with status: RunStatus.COMPLETED\n",
            "\n",
            "📝 Created a conversation thread, ID: thread_FHsHmP8zuUhgywbabvfToq4R\n",
            "📨 Created user message with query: 'What's the current WHO recommendation for sugar intake?'\n",
            "🤖 Run finished with status: RunStatus.COMPLETED\n",
            "\n",
            "📝 Created a conversation thread, ID: thread_UIjlFysktSIwNwYuB77NVQv2\n",
            "📨 Created user message with query: 'Any news on intermittent fasting for weight management?'\n",
            "🤖 Run finished with status: RunStatus.COMPLETED\n",
            "\n"
          ]
        }
      ],
      "source": [
        "bing_threads = []\n",
        "\n",
        "\n",
        "def ask_bing_question(agent, user_query):\n",
        "  try:\n",
        "    thread = project_client.agents.threads.create()\n",
        "    print(f\"📝 Created a conversation thread, ID: {thread.id}\")\n",
        "\n",
        "    # Post user query as a message\n",
        "    user_message = project_client.agents.messages.create(\n",
        "        thread_id=thread.id,\n",
        "        role=\"user\",\n",
        "        content=user_query\n",
        "    )\n",
        "    print(f\"📨 Created user message with query: '{user_query}'\")\n",
        "\n",
        "    # Process the query with the agent\n",
        "    run = project_client.agents.runs.create_and_process(\n",
        "        thread_id=thread.id,\n",
        "        agent_id=agent.id\n",
        "    )\n",
        "    print(f\"🤖 Run finished with status: {run.status}\\n\")\n",
        "    if run.last_error:\n",
        "      print(f\"Error detail: {run.last_error}\\n\")\n",
        "\n",
        "    return thread, run\n",
        "  except Exception as e:\n",
        "    print(f\"❌ Error asking Bing question: {e}\")\n",
        "    return None, None\n",
        "\n",
        "\n",
        "if bing_agent:\n",
        "  # We'll ask a few fun questions!\n",
        "  questions = [\n",
        "      \"What are some new HIIT workout trends I should know about?\",\n",
        "      \"What's the current WHO recommendation for sugar intake?\",\n",
        "      \"Any news on intermittent fasting for weight management?\"\n",
        "  ]\n",
        "\n",
        "  for q in questions:\n",
        "    thr, rn = ask_bing_question(bing_agent, q)\n",
        "    if thr and rn:\n",
        "      bing_threads.append((thr, rn))"
      ]
    },
    {
      "cell_type": "markdown",
      "id": "view-thread",
      "metadata": {},
      "source": [
        "## 4. Viewing Bing-Grounded Answers & Query URLs\n",
        "We’ll retrieve each thread's messages, printing both the user queries and the agent's responses. We'll also fetch the run steps to display the **Bing Search Query URL** (so you can comply with the requirement to show where the data came from). You can replace `api.bing.microsoft.com` with `www.bing.com` to form a user-friendly link.\n",
        "\n",
        "Because `RunStep` objects do **not** have `.details`, we look instead for `'request_url'` in `step[\"parameters\"]`. If found, it's presumably the Bing step."
      ]
    },
    {
      "cell_type": "code",
      "execution_count": 9,
      "id": "view-thread-code",
      "metadata": {},
      "outputs": [
        {
          "name": "stdout",
          "output_type": "stream",
          "text": [
            "\n",
            "🗣️ Conversation for thread: thread_9cXnNbml4f2EzpJ5mAZNvmsr\n",
            "USER: What are some new HIIT workout trends I should know about?\n",
            "\n",
            "ASSISTANT: I'm glad you're interested in the latest HIIT workout trends! While I can't provide real-time updates without browsing, recent trends often include new variations like hybrid workouts, use of advanced technology, and social elements. I recommend checking out trusted fitness sources or recent publications for the latest specifics. \n",
            "\n",
            "Please keep in mind, I'm not a medical professional—it's a good idea to consult with a fitness instructor or healthcare provider before trying new workout routines. Would you like me to look up the latest HIIT trends for you?\n",
            "\n",
            "🔍 Run step: step_aPqmLNagVeCYqM2CEo60JkVM - {'type': 'message_creation', 'message_creation': {'message_id': 'msg_HDyfp4DweBJfK7Ix4yKMBssh'}}\n",
            "\n",
            "🗣️ Conversation for thread: thread_FHsHmP8zuUhgywbabvfToq4R\n",
            "USER: What's the current WHO recommendation for sugar intake?\n",
            "\n",
            "ASSISTANT: The World Health Organization (WHO) recommends that free sugars should make up less than 10% of total daily energy intake. A further reduction to below 5% of total energy intake is suggested for additional health benefits. For an adult of normal weight, this is roughly equivalent to about 25 grams (or about 6 teaspoons) of free sugars per day  .\n",
            "\n",
            "Please keep in mind that I am not a medical professional. For personalized advice, consult a healthcare provider.\n",
            "\n",
            "🔍 Run step: step_O9xxWQRrqQuFT7IX5vkLj7OA - {'type': 'message_creation', 'message_creation': {'message_id': 'msg_uRs0xIeu1bUis7Ts8c5sHMmz'}}\n",
            "\n",
            "🗣️ Conversation for thread: thread_UIjlFysktSIwNwYuB77NVQv2\n",
            "USER: Any news on intermittent fasting for weight management?\n",
            "\n",
            "ASSISTANT: Recent studies on intermittent fasting suggest mixed findings for weight management. For example, an 8-hour time-restricted eating schedule has been linked to better weight loss and metabolic health in some research, including a study indicating it may help sustain weight loss over three months. Additionally, combining time-restricted eating with nutrition counseling has shown to improve body fat reduction and blood sugar control【3:2†source】【3:4†source】.\n",
            "\n",
            "However, a large study noted an increased risk (91%) of cardiovascular death associated with this type of fasting, indicating the need for caution and medical supervision, especially for those with heart conditions【3:1†source】.\n",
            "\n",
            "Overall, while intermittent fasting can be beneficial for some, its effects vary among individuals, and more research is needed to fully understand its long-term safety and effectiveness. \n",
            "\n",
            "Please consult a healthcare professional before starting any fasting regimen.\n",
            "\n",
            "🔍 Run step: step_vaAI6XX1USCG3gW9OIWqmORJ - {'type': 'message_creation', 'message_creation': {'message_id': 'msg_z47AWxM2bf750j1UkQINDxVH'}}\n",
            "🔍 Run step: step_zJhtszoVMTaWB7NIZavaHMDu - {'type': 'tool_calls', 'tool_calls': [{'id': 'call_X5PKB82iXowBaFGbi4suh3wV', 'type': 'bing_grounding', 'bing_grounding': {'requesturl': 'https://api.bing.microsoft.com/v7.0/search?q=latest news on intermittent fasting for weight management', 'response_metadata': \"{'market': 'sv-SE', 'num_docs_retrieved': 5, 'num_docs_actually_used': 5}\"}}]}\n"
          ]
        }
      ],
      "source": [
        "def view_bing_conversation(thread_id, run_id):\n",
        "  try:\n",
        "    # Print conversation\n",
        "    messages = list(project_client.agents.messages.list(thread_id=thread_id))\n",
        "    print(\"\\n🗣️ Conversation for thread:\", thread_id)\n",
        "    reversed_msgs = list(reversed(messages))  # oldest first\n",
        "    for msg in reversed_msgs:\n",
        "      role = msg.role.upper()\n",
        "      if msg.text_messages:\n",
        "        for c in msg.text_messages:\n",
        "          if hasattr(c, 'text') and c.text:\n",
        "            print(f\"{role}: {c.text.value}\\n\")\n",
        "\n",
        "    # Retrieve run steps to get Bing search query link\n",
        "    run_steps = project_client.agents.run_steps.list(\n",
        "        thread_id=thread_id, run_id=run_id)\n",
        "    for run_step in run_steps:\n",
        "      print(f\"🔍 Run step: {run_step.id} - {run_step.step_details}\")\n",
        "  except Exception as e:\n",
        "    print(f\"❌ Error viewing Bing conversation: {e}\")\n",
        "\n",
        "\n",
        "# Display all queries and agent responses\n",
        "if bing_threads:\n",
        "  for (thr, rn) in bing_threads:\n",
        "    view_bing_conversation(thr.id, rn.id)"
      ]
    },
    {
      "cell_type": "markdown",
      "id": "cleanup",
      "metadata": {},
      "source": [
        "## 5. Cleanup & Best Practices\n",
        "You can optionally delete the agent once you're done. In production, you might keep it around for repeated usage.\n",
        "\n",
        "### Best Practices\n",
        "1. **Accuracy** – Bing search results may include disclaimers or partial info. Encourage verification with credible sources.\n",
        "2. **Bing Query Display** – For compliance with Bing's use and display requirements, show both **website URLs** (in the agent's response) and **Bing search query URLs** (shown above). If the model includes citations, display them as well.\n",
        "3. **Limits** – Keep an eye on usage, rate limits, or policy constraints for Bing.\n",
        "4. **Privacy** – Filter search queries to avoid sending sensitive data.\n",
        "5. **Evaluations** – Use `azure-ai-evaluation` for iterative improvement.\n"
      ]
    },
    {
      "cell_type": "code",
      "execution_count": 10,
      "id": "cleanup-code",
      "metadata": {},
      "outputs": [
        {
          "name": "stdout",
          "output_type": "stream",
          "text": [
            "🗑️ Deleted Bing-grounded agent: health-bing-agent\n"
          ]
        }
      ],
      "source": [
        "def cleanup_bing_agent(agent):\n",
        "  if agent:\n",
        "    try:\n",
        "      project_client.agents.delete_agent(agent.id)\n",
        "      print(f\"🗑️ Deleted Bing-grounded agent: {agent.name}\")\n",
        "    except Exception as e:\n",
        "      print(f\"❌ Error cleaning up agent: {e}\")\n",
        "  else:\n",
        "    print(\"No agent to clean up.\")\n",
        "\n",
        "\n",
        "# Uncomment if you want to remove the agent now\n",
        "cleanup_bing_agent(bing_agent)"
      ]
    },
    {
      "cell_type": "markdown",
      "id": "final-note",
      "metadata": {},
      "source": [
        "# Congratulations! 🎉\n",
        "You've built a **Bing-Grounded Health & Fitness Agent** that can:\n",
        "1. **Search** the web with Bing.\n",
        "2. **Answer** health/fitness questions with disclaimers.\n",
        "3. **Include** references and Bing search query links.\n",
        "\n",
        "Feel free to expand this approach by combining the BingGroundingTool with other tools (e.g., **FileSearchTool**, **CodeInterpreterTool**) to build a robust advisor.\n",
        "\n",
        "#### Let's proceed to [5-agents-aisearch.ipynb](./5-agents-aisearch.ipynb)"
      ]
    }
  ],
  "metadata": {
    "kernelspec": {
      "display_name": ".venv",
      "language": "python",
      "name": "python3"
    },
    "language_info": {
      "codemirror_mode": {
        "name": "ipython",
        "version": 3
      },
      "file_extension": ".py",
      "mimetype": "text/x-python",
      "name": "python",
      "nbconvert_exporter": "python",
      "pygments_lexer": "ipython3",
      "version": "3.12.3"
    }
  },
  "nbformat": 4,
  "nbformat_minor": 5
}
